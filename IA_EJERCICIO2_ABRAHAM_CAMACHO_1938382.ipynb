{
  "nbformat": 4,
  "nbformat_minor": 0,
  "metadata": {
    "colab": {
      "name": "IA_EJERCICIO2_ABRAHAM_CAMACHO_1938382",
      "provenance": []
    },
    "kernelspec": {
      "name": "python3",
      "display_name": "Python 3"
    },
    "language_info": {
      "name": "python"
    }
  },
  "cells": [
    {
      "cell_type": "code",
      "metadata": {
        "colab": {
          "base_uri": "https://localhost:8080/"
        },
        "id": "eMc9RS58MKIz",
        "outputId": "d76a4373-6cf6-4b25-f499-a2dc0c38750f"
      },
      "source": [
        "#Actividad3_ejercicios_de_introduccion_python_2da_parte Abraham_Isaac_Camaacho_Segura_1938382 Sabatino N1\n",
        "\n",
        "a = input (\"Mencione una comida:\") #Se pide ingresar una comida guardando el valor en una variable\n",
        "b = input (\"Mencione una comida:\") #Se pide ingresar una comida guardando el valor en una variable\n",
        "c = input (\"Mencione una comida:\") #Se pide ingresar una comida guardando el valor en una variable\n",
        "d = input (\"Mencione una comida:\") #Se pide ingresar una comida guardando el valor en una variable\n",
        "e = input (\"Mencione una comida:\") #Se pide ingresar una comida guardando el valor en una variable\n",
        "f = input (\"Mencione una comida:\") #Se pide ingresar una comida guardando el valor en una variable\n",
        "g = input (\"Mencione una comida:\") #Se pide ingresar una comida guardando el valor en una variable\n",
        "\n",
        "lista = [a,b,c,d,e,f,g] #Se guradan las variables en una lista\n",
        "for x in lista: #Se imprimen los datos de esa lista\n",
        "  print(x) \n",
        "\n"
      ],
      "execution_count": 8,
      "outputs": [
        {
          "output_type": "stream",
          "name": "stdout",
          "text": [
            "Mencione una comida:hamburguesa\n",
            "Mencione una comida:lasaña\n",
            "Mencione una comida:enchiladas\n",
            "Mencione una comida:lentejas\n",
            "Mencione una comida:pescado\n",
            "Mencione una comida:arroz\n",
            "Mencione una comida:tacos\n",
            "hamburguesa\n",
            "lasaña\n",
            "enchiladas\n",
            "lentejas\n",
            "pescado\n",
            "arroz\n",
            "tacos\n"
          ]
        }
      ]
    },
    {
      "cell_type": "code",
      "metadata": {
        "colab": {
          "base_uri": "https://localhost:8080/"
        },
        "id": "3AMCyLejTqU1",
        "outputId": "cdf079fe-d703-48c6-c705-b8bd26d1362a"
      },
      "source": [
        "a = input (\"Mencione una comida:\") #Se pide ingresar una comida guardando el valor en una variable\n",
        "b = input (\"Mencione una comida:\") #Se pide ingresar una comida guardando el valor en una variable\n",
        "c = input (\"Mencione una comida:\") #Se pide ingresar una comida guardando el valor en una variable\n",
        "d = input (\"Mencione una comida:\") #Se pide ingresar una comida guardando el valor en una variable\n",
        "e = input (\"Mencione una comida:\") #Se pide ingresar una comida guardando el valor en una variable\n",
        "f = input (\"Mencione una comida:\") #Se pide ingresar una comida guardando el valor en una variable\n",
        "g = input (\"Mencione una comida:\") #Se pide ingresar una comida guardando el valor en una variable\n",
        "\n",
        "lista = [a,b,c,d,e,f,g] #Se guaradan las variables en una lista\n",
        "\n",
        "for x in range (7): #Se imprime una a una las comidas favoritas añadiendo el mensaje de \"Una de mis comidas favoritas es:\"\n",
        "  if  x==0:\n",
        "    print(\"Una de mis comidas favoritas es:\", lista [x])\n",
        "  if x==1:\n",
        "    print(\"Una de mis comidas favoritas es:\", lista [x])\n",
        "  if x==2:\n",
        "    print(\"Una de mis comidas favoritas es:\", lista [x])\n",
        "  if x==3:\n",
        "    print(\"Una de mis comidas favoritas es:\", lista [x])\n",
        "  if x==4:\n",
        "    print(\"Una de mis comidas favoritas es\",  lista [x])\n",
        "  if x==5:\n",
        "    print(\"Una de mis comidas favoritas es:\", lista [x])\n",
        "  if x==6:\n",
        "    print(\"Una de mis comidas favoritas es:\", lista [x])\n",
        "  if x==7:\n",
        "    print(\"Una de mis comidas favoritas es:\", lista [x])"
      ],
      "execution_count": 18,
      "outputs": [
        {
          "output_type": "stream",
          "name": "stdout",
          "text": [
            "Mencione una comida:hamburguesa\n",
            "Mencione una comida:lasaña\n",
            "Mencione una comida:enchiladas\n",
            "Mencione una comida:lentejas\n",
            "Mencione una comida:pescado\n",
            "Mencione una comida:arroz\n",
            "Mencione una comida:tacos\n",
            "Una de mis comidas favoritas es: hamburguesa\n",
            "Una de mis comidas favoritas es: lasaña\n",
            "Una de mis comidas favoritas es: enchiladas\n",
            "Una de mis comidas favoritas es: lentejas\n",
            "Una de mis comidas favoritas es pescado\n",
            "Una de mis comidas favoritas es: arroz\n",
            "Una de mis comidas favoritas es: tacos\n"
          ]
        }
      ]
    },
    {
      "cell_type": "code",
      "metadata": {
        "colab": {
          "base_uri": "https://localhost:8080/"
        },
        "id": "QsnY7RTGcIjb",
        "outputId": "5b6cc6ba-0b81-4033-ebd4-a833c2688c22"
      },
      "source": [
        "opciones=[1, 2, 3] #Se introducen las opciones en una lista\n",
        "piedra=[0] #Se determina que movimiento sera representado para cada posiscion en la lista\n",
        "papel=[1]\n",
        "tijera=[2]\n",
        "print(\"(1)piedra\") #Se imprime la lista de movimientos\n",
        "print(\"(2)papel\")\n",
        "print(\"(3)tijera\")\n",
        "jugada1=int(input(\"j1 Escoja el numero de su movimiento:\")) #Se le pide a los usuarios elegir un moviento de acuerdo a su numero\n",
        "jugada2=int(input(\"j2 Escoja el numero de su movimiento:\"))\n",
        "if jugada1 == 1 and jugada2 == 2: #Dependiendo del numero que elijan se determina si hay un ganador, es empate o se selecciono un numero fuera de los movimientos\n",
        "  print(\"Jugador 2 gana\") #Se imprime el ganador, si hubo empate o si hubo movimientos no validos\n",
        "if jugada1 == 1 and jugada2 == 3:\n",
        "  print(\"Jugador 1 gana\")\n",
        "if jugada1 == 2 and jugada2 == 1:\n",
        "  print(\"Jugador 1 gana\")\n",
        "if jugada1 == 2 and jugada2 == 3:\n",
        "  print(\"jugador 2 gana\")\n",
        "if jugada1 == 3 and jugada2 == 1:\n",
        "  print(\"jugador 2 gana\")\n",
        "if jugada1 == 3 and jugada2 == 2:\n",
        "  print(\"jugador 1 gana\")\n",
        "if jugada1 == jugada2:\n",
        "  print(\"Es un empate\")\n",
        "if (jugada1 > 3) or (jugada1 < 1) or (jugada2 > 3) or (jugada2 < 1):\n",
        "  print(\"movimiento invalido, favor de volver iniciar\")\n"
      ],
      "execution_count": 20,
      "outputs": [
        {
          "output_type": "stream",
          "name": "stdout",
          "text": [
            "(1)piedra\n",
            "(2)papel\n",
            "(3)tijera\n",
            "j1 Escoja el numero de su movimiento:2\n",
            "j2 Escoja el numero de su movimiento:3\n",
            "jugador 2 gana\n"
          ]
        }
      ]
    },
    {
      "cell_type": "code",
      "metadata": {
        "colab": {
          "base_uri": "https://localhost:8080/"
        },
        "id": "0hTsxTdwmjoT",
        "outputId": "099dd8a3-cfb3-4885-9005-9ec77161bf56"
      },
      "source": [
        "lista = [1,2,3,4,5,6] #Se guardan los valores con los que se trabajaran en una lista\n",
        "print(*lista[:6]) #Se imprime desde el inicio hasta el numero que se desea dependiendo de la fila para lograr el patron\n",
        "print(*lista[:5])\n",
        "print(*lista[:4])\n",
        "print(*lista[:3])\n",
        "print(*lista[:2])\n",
        "print(\"1\")\n",
        "print(*lista[:2])\n",
        "print(*lista[:3])\n",
        "print(*lista[:4])\n",
        "print(*lista[:5])\n",
        "print(*lista[:6])\n"
      ],
      "execution_count": 21,
      "outputs": [
        {
          "output_type": "stream",
          "name": "stdout",
          "text": [
            "1 2 3 4 5 6\n",
            "1 2 3 4 5\n",
            "1 2 3 4\n",
            "1 2 3\n",
            "1 2\n",
            "1\n",
            "1 2\n",
            "1 2 3\n",
            "1 2 3 4\n",
            "1 2 3 4 5\n",
            "1 2 3 4 5 6\n"
          ]
        }
      ]
    }
  ]
}